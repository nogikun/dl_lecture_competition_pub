{
  "cells": [
    {
      "cell_type": "markdown",
      "metadata": {
        "id": "view-in-github",
        "colab_type": "text"
      },
      "source": [
        "<a href=\"https://colab.research.google.com/github/nogikun/dl_lecture_competition_pub/blob/VQA-competition/main_notebook.ipynb\" target=\"_parent\"><img src=\"https://colab.research.google.com/assets/colab-badge.svg\" alt=\"Open In Colab\"/></a>"
      ]
    },
    {
      "cell_type": "markdown",
      "source": [
        "### 環境構築"
      ],
      "metadata": {
        "id": "q2JjrCl-l_Id"
      }
    },
    {
      "cell_type": "code",
      "source": [
        "import os\n",
        "# 環境変数の指定\n",
        "os.environ['REPOSITORY'] = 'github.com/nogikun/dl_lecture_competition_pub.git'\n",
        "os.environ['BRANCH'] = 'VQA-competition'\n",
        "# その他：USER, MAIL, GITHUB_ACCESS_TOKEN\n",
        "\n",
        "# GitHub\n",
        "! git config --global user.name ${USER} # username\n",
        "! git config --global user.email ${MAIL} # e-mail\n",
        "!git clone -b ${BRANCH} https://${REPOSITORY} # 指定のブランチをクローン\n",
        "!git remote set-url origin https://${GITHUB_ACCESS_TOKEN}@${REPOSITORY} # アクセス権の適用\n",
        "%cd /content/dl_lecture_competition_pub/ # ディレクトリの移動\n",
        "!ls #確認\n",
        "\n",
        "# Datasets\n",
        "!gdown https://drive.google.com/uc?id=1VRc_ERfP2OUY_t7ppkMRxn-ZFHc_6tux -O /content/dl_lecture_competition_pub/data/ # train.json\n",
        "!gdown https://drive.google.com/uc?id=1vr8PnhaDbvZA0DJvz-f2i7qnci742F0V -O /content/dl_lecture_competition_pub/data/ # valid.json\n",
        "!gdown https://drive.google.com/uc?id=1UxbZPqf-bdotLi4TH4RBIA_8263vKcMO -O /content/dl_lecture_competition_pub/data/ # train.zip\n",
        "!gdown https://drive.google.com/uc?id=1SaEyOllru6gEPlOImX4IEo4cvd9vL4Lk -O /content/dl_lecture_competition_pub/data/ # valid.zip (self url)\n",
        "#!unzip ./data/train.zip -d ./data/\n",
        "#!unzip ./data/valid.zip -d ./data/"
      ],
      "metadata": {
        "colab": {
          "base_uri": "https://localhost:8080/"
        },
        "id": "1MNvGzxi_wjZ",
        "outputId": "767f5576-4494-4a8f-ae34-a0f77073b1aa"
      },
      "execution_count": 1,
      "outputs": [
        {
          "output_type": "stream",
          "name": "stdout",
          "text": [
            "Cloning into 'dl_lecture_competition_pub'...\n",
            "remote: Enumerating objects: 82, done.\u001b[K\n",
            "remote: Counting objects: 100% (47/47), done.\u001b[K\n",
            "remote: Compressing objects: 100% (40/40), done.\u001b[K\n",
            "remote: Total 82 (delta 18), reused 8 (delta 6), pack-reused 35\u001b[K\n",
            "Receiving objects: 100% (82/82), 68.84 KiB | 5.74 MiB/s, done.\n",
            "Resolving deltas: 100% (21/21), done.\n",
            "fatal: not a git repository (or any of the parent directories): .git\n",
            "[Errno 2] No such file or directory: '/content/dl_lecture_competition_pub/ # ディレクトリの移動'\n",
            "/content\n",
            "dl_lecture_competition_pub  sample_data\n",
            "Downloading...\n",
            "From: https://drive.google.com/uc?id=1VRc_ERfP2OUY_t7ppkMRxn-ZFHc_6tux\n",
            "To: /content/dl_lecture_competition_pub/data/train.json\n",
            "100% 11.8M/11.8M [00:00<00:00, 39.3MB/s]\n",
            "Downloading...\n",
            "From: https://drive.google.com/uc?id=1vr8PnhaDbvZA0DJvz-f2i7qnci742F0V\n",
            "To: /content/dl_lecture_competition_pub/data/valid.json\n",
            "100% 334k/334k [00:00<00:00, 8.61MB/s]\n",
            "Failed to retrieve file url:\n",
            "\n",
            "\tToo many users have viewed or downloaded this file recently. Please\n",
            "\ttry accessing the file again later. If the file you are trying to\n",
            "\taccess is particularly large or is shared with many people, it may\n",
            "\ttake up to 24 hours to be able to view or download the file. If you\n",
            "\tstill can't access a file after 24 hours, contact your domain\n",
            "\tadministrator.\n",
            "\n",
            "You may still be able to access the file from the browser:\n",
            "\n",
            "\thttps://drive.google.com/uc?id=1UxbZPqf-bdotLi4TH4RBIA_8263vKcMO\n",
            "\n",
            "but Gdown can't. Please check connections and permissions.\n",
            "Downloading...\n",
            "From (original): https://drive.google.com/uc?id=1SaEyOllru6gEPlOImX4IEo4cvd9vL4Lk\n",
            "From (redirected): https://drive.google.com/uc?id=1SaEyOllru6gEPlOImX4IEo4cvd9vL4Lk&confirm=t&uuid=e6f3ec4f-045a-45b9-bb04-5f176e6a362c\n",
            "To: /content/dl_lecture_competition_pub/data/valid.zip\n",
            "100% 2.37G/2.37G [00:44<00:00, 53.1MB/s]\n"
          ]
        }
      ]
    },
    {
      "cell_type": "markdown",
      "source": [
        "松尾研 実行環境の場合以下のようなコマンドでデータセットをDLする\n",
        "```\n",
        "!gsutil cp gs://dl-common/2024/VQA/train.zip /content/Datasets\n",
        "!gsutil cp gs://dl-common/2024/VQA/valid.zip /content/Datasets\n",
        "!unzip train.zip\n",
        "!unzip valid.zip\n",
        "```"
      ],
      "metadata": {
        "id": "LHuCOqkKgjvE"
      }
    },
    {
      "cell_type": "code",
      "source": [
        "import zipfile\n",
        "import tqdm\n",
        "import os\n",
        "%cd /content/dl_lecture_competition_pub/\n",
        "# zipファイルを開く\n",
        "def unzipper(zip_file, out_path):\n",
        "  with zipfile.ZipFile(zip_file, 'r') as zip_ref:\n",
        "    # ファイルリストを取得\n",
        "    file_list = zip_ref.namelist()\n",
        "    # tqdmで進捗バーを表示\n",
        "    for file in tqdm.tqdm(file_list, desc=f'[unzip...] {zip_file}'):\n",
        "        zip_ref.extract(file, out_path)\n",
        "\n",
        "if __name__ == '__main__':\n",
        "  zip_files = ['./data/train.zip',\n",
        "               './data/valid.zip']\n",
        "  out_path = './data/' # 解凍先path\n",
        "  for zip_file in zip_files:\n",
        "    unzipper(zip_file, out_path)"
      ],
      "metadata": {
        "colab": {
          "base_uri": "https://localhost:8080/"
        },
        "id": "nwSRZpXmdyBh",
        "outputId": "4ba1049c-cf8a-40f9-9846-6b6bf0fbe038"
      },
      "execution_count": 2,
      "outputs": [
        {
          "output_type": "stream",
          "name": "stdout",
          "text": [
            "/content/dl_lecture_competition_pub\n"
          ]
        },
        {
          "output_type": "stream",
          "name": "stderr",
          "text": [
            "[unzip...] ./data/train.zip: 100%|██████████| 19874/19874 [01:33<00:00, 211.49it/s]\n",
            "[unzip...] ./data/valid.zip: 100%|██████████| 4970/4970 [00:24<00:00, 203.68it/s]\n"
          ]
        }
      ]
    },
    {
      "cell_type": "code",
      "source": [
        "%%capture\n",
        "!pip install -r ./requirements.txt"
      ],
      "metadata": {
        "id": "aBAmi7SppuBr"
      },
      "execution_count": 3,
      "outputs": []
    },
    {
      "cell_type": "markdown",
      "source": [
        "### 学習実行"
      ],
      "metadata": {
        "id": "sDMiLw7zmHJ9"
      }
    },
    {
      "cell_type": "code",
      "source": [
        "%cd /content/dl_lecture_competition_pub/\n",
        "!python ./main.py"
      ],
      "metadata": {
        "colab": {
          "base_uri": "https://localhost:8080/"
        },
        "id": "FUUgYCyzNMkl",
        "outputId": "7a6a4173-18c6-4cdf-f349-9be4d687b85d"
      },
      "execution_count": 4,
      "outputs": [
        {
          "output_type": "stream",
          "name": "stdout",
          "text": [
            "/content/dl_lecture_competition_pub\n",
            "Traceback (most recent call last):\n",
            "  File \"/content/dl_lecture_competition_pub/./main.py\", line 409, in <module>\n",
            "    main()\n",
            "  File \"/content/dl_lecture_competition_pub/./main.py\", line 387, in main\n",
            "    train_loss, train_acc, train_simple_acc, train_time = train(model, train_loader, optimizer, criterion, device)\n",
            "  File \"/content/dl_lecture_competition_pub/./main.py\", line 329, in train\n",
            "    loss.backward()\n",
            "  File \"/usr/local/lib/python3.10/dist-packages/torch/_tensor.py\", line 525, in backward\n",
            "    torch.autograd.backward(\n",
            "  File \"/usr/local/lib/python3.10/dist-packages/torch/autograd/__init__.py\", line 267, in backward\n",
            "    _engine_run_backward(\n",
            "  File \"/usr/local/lib/python3.10/dist-packages/torch/autograd/graph.py\", line 744, in _engine_run_backward\n",
            "    return Variable._execution_engine.run_backward(  # Calls into the C++ engine to run the backward pass\n",
            "KeyboardInterrupt\n"
          ]
        }
      ]
    },
    {
      "cell_type": "code",
      "source": [
        "%cd /content/dl_lecture_competition_pub/\n",
        "!python ./main.py"
      ],
      "metadata": {
        "colab": {
          "base_uri": "https://localhost:8080/"
        },
        "id": "0hYYARe_mKmh",
        "outputId": "086ba8bf-e4a4-4e66-8d29-4ca29815af91"
      },
      "execution_count": null,
      "outputs": [
        {
          "output_type": "stream",
          "name": "stdout",
          "text": [
            "/content/dl_lecture_competition_pub\n",
            "  0% 0/156 [00:00<?, ?it/s]/usr/local/lib/python3.10/dist-packages/torch/autograd/graph.py:744: UserWarning: Plan failed with a cudnnException: CUDNN_BACKEND_EXECUTION_PLAN_DESCRIPTOR: cudnnFinalize Descriptor Failed cudnn_status: CUDNN_STATUS_NOT_SUPPORTED (Triggered internally at ../aten/src/ATen/native/cudnn/Conv_v8.cpp:919.)\n",
            "  return Variable._execution_engine.run_backward(  # Calls into the C++ engine to run the backward pass\n",
            "100% 156/156 [09:53<00:00,  3.80s/it]\n",
            "【1/20】\n",
            "train time: 593.51 [s]\n",
            "train loss: 6.0979\n",
            "train acc: 0.4714\n",
            "train simple acc: 0.3806\n",
            "100% 156/156 [09:40<00:00,  3.72s/it]\n",
            "【2/20】\n",
            "train time: 580.39 [s]\n",
            "train loss: 5.0484\n",
            "train acc: 0.4833\n",
            "train simple acc: 0.3932\n",
            "100% 156/156 [09:54<00:00,  3.81s/it]\n",
            "【3/20】\n",
            "train time: 594.32 [s]\n",
            "train loss: 4.6861\n",
            "train acc: 0.4883\n",
            "train simple acc: 0.3996\n",
            "100% 156/156 [09:47<00:00,  3.76s/it]\n",
            "【4/20】\n",
            "train time: 587.20 [s]\n",
            "train loss: 4.3852\n",
            "train acc: 0.4915\n",
            "train simple acc: 0.4046\n",
            "100% 156/156 [09:45<00:00,  3.76s/it]\n",
            "【5/20】\n",
            "train time: 585.96 [s]\n",
            "train loss: 4.1100\n",
            "train acc: 0.4930\n",
            "train simple acc: 0.4069\n",
            "100% 156/156 [09:40<00:00,  3.72s/it]\n",
            "【6/20】\n",
            "train time: 580.92 [s]\n",
            "train loss: 3.8544\n",
            "train acc: 0.4961\n",
            "train simple acc: 0.4110\n",
            "100% 156/156 [09:44<00:00,  3.75s/it]\n",
            "【7/20】\n",
            "train time: 584.44 [s]\n",
            "train loss: 3.6133\n",
            "train acc: 0.4955\n",
            "train simple acc: 0.4116\n",
            "100% 156/156 [09:40<00:00,  3.72s/it]\n",
            "【8/20】\n",
            "train time: 580.73 [s]\n",
            "train loss: 3.3746\n",
            "train acc: 0.4968\n",
            "train simple acc: 0.4184\n",
            "100% 156/156 [09:41<00:00,  3.73s/it]\n",
            "【9/20】\n",
            "train time: 581.82 [s]\n",
            "train loss: 3.1469\n",
            "train acc: 0.5026\n",
            "train simple acc: 0.4266\n",
            "100% 156/156 [09:40<00:00,  3.72s/it]\n",
            "【10/20】\n",
            "train time: 580.05 [s]\n",
            "train loss: 2.9405\n",
            "train acc: 0.5050\n",
            "train simple acc: 0.4348\n",
            "100% 156/156 [09:42<00:00,  3.73s/it]\n",
            "【11/20】\n",
            "train time: 582.10 [s]\n",
            "train loss: 2.7226\n",
            "train acc: 0.5141\n",
            "train simple acc: 0.4512\n",
            "100% 156/156 [09:39<00:00,  3.71s/it]\n",
            "【12/20】\n",
            "train time: 579.05 [s]\n",
            "train loss: 2.5107\n",
            "train acc: 0.5269\n",
            "train simple acc: 0.4713\n",
            "100% 156/156 [09:40<00:00,  3.72s/it]\n",
            "【13/20】\n",
            "train time: 580.22 [s]\n",
            "train loss: 2.3374\n",
            "train acc: 0.5418\n",
            "train simple acc: 0.4924\n",
            "100% 156/156 [09:40<00:00,  3.72s/it]\n",
            "【14/20】\n",
            "train time: 580.91 [s]\n",
            "train loss: 2.1957\n",
            "train acc: 0.5580\n",
            "train simple acc: 0.5147\n",
            "100% 156/156 [09:58<00:00,  3.83s/it]\n",
            "【15/20】\n",
            "train time: 598.09 [s]\n",
            "train loss: 2.0392\n",
            "train acc: 0.5741\n",
            "train simple acc: 0.5364\n",
            "100% 156/156 [09:39<00:00,  3.71s/it]\n",
            "【16/20】\n",
            "train time: 579.46 [s]\n",
            "train loss: 1.9180\n",
            "train acc: 0.5901\n",
            "train simple acc: 0.5565\n",
            "100% 156/156 [09:32<00:00,  3.67s/it]\n",
            "【17/20】\n",
            "train time: 572.73 [s]\n",
            "train loss: 1.8000\n",
            "train acc: 0.6032\n",
            "train simple acc: 0.5754\n",
            "100% 156/156 [09:34<00:00,  3.68s/it]\n",
            "【18/20】\n",
            "train time: 574.26 [s]\n",
            "train loss: 1.6951\n",
            "train acc: 0.6156\n",
            "train simple acc: 0.5920\n",
            " 33% 51/156 [03:06<06:29,  3.71s/it]"
          ]
        }
      ]
    },
    {
      "cell_type": "markdown",
      "source": [
        "### git push"
      ],
      "metadata": {
        "id": "wwbeFtc1lwyM"
      }
    },
    {
      "cell_type": "code",
      "source": [
        "!git add .\n",
        "!git status"
      ],
      "metadata": {
        "colab": {
          "base_uri": "https://localhost:8080/"
        },
        "id": "NegW6K9cdU_G",
        "outputId": "08d4d9f8-5cf7-43b7-9639-8f2455f358e0"
      },
      "execution_count": 5,
      "outputs": [
        {
          "output_type": "stream",
          "name": "stdout",
          "text": [
            "On branch VQA-competition\n",
            "Your branch is up to date with 'origin/VQA-competition'.\n",
            "\n",
            "Changes to be committed:\n",
            "  (use \"git restore --staged <file>...\" to unstage)\n",
            "\t\u001b[32mrenamed:    gitignore -> .gitignore\u001b[m\n",
            "\n"
          ]
        }
      ]
    },
    {
      "cell_type": "code",
      "source": [
        "import os\n",
        "os.environ['commit_message'] = input('commit : ')\n",
        "\n",
        "if input('push? (y/n)') == 'y':\n",
        "  !git commit -m \"${commit_message}\"\n",
        "  !git push origin VQA-competition\n",
        "else:\n",
        "  print('push cancelled')"
      ],
      "metadata": {
        "id": "I09YQoM_gH8R",
        "outputId": "add39e3e-740c-49ec-9a16-ccdf8f89ec63",
        "colab": {
          "base_uri": "https://localhost:8080/"
        }
      },
      "execution_count": 6,
      "outputs": [
        {
          "output_type": "stream",
          "name": "stdout",
          "text": [
            "commit : 修正\n",
            "push? (y/n)y\n",
            "[VQA-competition 1e9d108] 修正\n",
            " 1 file changed, 0 insertions(+), 0 deletions(-)\n",
            " rename gitignore => .gitignore (100%)\n",
            "fatal: could not read Username for 'https://github.com': No such device or address\n"
          ]
        }
      ]
    },
    {
      "cell_type": "code",
      "source": [],
      "metadata": {
        "id": "CJHVxI3ugJQ1"
      },
      "execution_count": null,
      "outputs": []
    },
    {
      "cell_type": "code",
      "source": [
        "%cd /content/dl_lecture_competition_pub/\n",
        "!git commit -m \"修正\"\n",
        "!git push origin VQA-competition"
      ],
      "metadata": {
        "colab": {
          "base_uri": "https://localhost:8080/"
        },
        "id": "gH8_aOGtf5gM",
        "outputId": "77cd41a5-f36f-4fdc-f28d-dd3acd748048"
      },
      "execution_count": 11,
      "outputs": [
        {
          "output_type": "stream",
          "name": "stdout",
          "text": [
            "/content/dl_lecture_competition_pub\n",
            "On branch VQA-competition\n",
            "Your branch is ahead of 'origin/VQA-competition' by 1 commit.\n",
            "  (use \"git push\" to publish your local commits)\n",
            "\n",
            "nothing to commit, working tree clean\n",
            "fatal: could not read Username for 'https://github.com': No such device or address\n"
          ]
        }
      ]
    },
    {
      "cell_type": "code",
      "source": [
        "!git log"
      ],
      "metadata": {
        "id": "HIkOslE7gTMw",
        "colab": {
          "base_uri": "https://localhost:8080/"
        },
        "outputId": "a84cbde3-0aa1-447d-bdb2-7962f0e000b5"
      },
      "execution_count": 10,
      "outputs": [
        {
          "output_type": "stream",
          "name": "stdout",
          "text": [
            "\u001b[33mcommit c2e6cc46a3468af943684816eb9a6e29c18c159a\u001b[m\u001b[33m (\u001b[m\u001b[1;36mHEAD -> \u001b[m\u001b[1;32mVQA-competition\u001b[m\u001b[33m)\u001b[m\n",
            "Author: nogikun <ok220075@oks.iput.ac.jp>\n",
            "Date:   Sat Jul 6 14:32:23 2024 +0000\n",
            "\n",
            "    進捗確認\n",
            "\n",
            "\u001b[33mcommit 0e7b98c67f43692b18a59bdc0f18de334adbe450\u001b[m\u001b[33m (\u001b[m\u001b[1;31morigin/VQA-competition\u001b[m\u001b[33m)\u001b[m\n",
            "Author: nogikun <ok220075@oks.iput.ac.jp>\n",
            "Date:   Sat Jul 6 09:38:21 2024 +0000\n",
            "\n",
            "    gitignoreの設定\n",
            "\n",
            "\u001b[33mcommit 3b0025689f972d9cb8225c362ed9252a71f54c53\u001b[m\n",
            "Author: nogikun <ok220075@oks.iput.ac.jp>\n",
            "Date:   Sat Jul 6 09:23:29 2024 +0000\n",
            "\n",
            "    push test\n",
            "\n",
            "\u001b[33mcommit c0d93399639dc3a404184bc707a22b2879ec0e98\u001b[m\n",
            "Author: masa-su <masa@weblab.t.u-tokyo.ac.jp>\n",
            "Date:   Thu Jun 6 18:17:26 2024 +0900\n",
            "\n",
            "    initial commit\n",
            "\n",
            "\u001b[33mcommit a145607c14d4aa1599c1d9bccd37abbc0077e7f4\u001b[m\n",
            "Author: masa-su <masa@weblab.t.u-tokyo.ac.jp>\n",
            "Date:   Thu Jun 6 17:52:34 2024 +0900\n",
            "\n",
            "    initial commit\n"
          ]
        }
      ]
    },
    {
      "cell_type": "code",
      "source": [],
      "metadata": {
        "id": "QoD3BcyjajLj"
      },
      "execution_count": null,
      "outputs": []
    },
    {
      "cell_type": "code",
      "source": [
        "https://drive.google.com/file/d/1uilLaTToJjE-cO--Qw9QWMk1oJylBFqf/view?usp=drive_link"
      ],
      "metadata": {
        "id": "KyHaM32uBk9K"
      },
      "execution_count": null,
      "outputs": []
    }
  ],
  "metadata": {
    "colab": {
      "provenance": [],
      "gpuType": "T4",
      "include_colab_link": true
    },
    "kernelspec": {
      "display_name": "Python 3",
      "name": "python3"
    },
    "accelerator": "GPU"
  },
  "nbformat": 4,
  "nbformat_minor": 0
}